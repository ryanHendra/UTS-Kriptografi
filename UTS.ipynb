{
 "cells": [
  {
   "cell_type": "markdown",
   "metadata": {},
   "source": [
    "UTS\n",
    "Nama   :Ryan Hendra Dwi Cahya\n",
    "Nim    :20220801392\n",
    "Mata Kuliah:Kriptografi"
   ]
  },
  {
   "cell_type": "code",
   "execution_count": null,
   "metadata": {},
   "outputs": [
    {
     "name": "stdout",
     "output_type": "stream",
     "text": [
      "Matriks 7x7:\n",
      "U I A L H I N\n",
      "N T       T G\n",
      "I A U M A A G\n",
      "V S N E K S U\n",
      "E   G R R I L\n",
      "R E G A E   X\n",
      "S S U I D U X\n",
      "\n",
      "Ciphertext yang terbaca: UIALHINNT   TGIAUMAAGVSNEKSUE GRRILREGAE XSSUIDUX\n",
      "\n",
      "Hasil dekripsi: UNIVERSITAS ESA UNGGUL MERAIH AKREDITASI UNGGULXX\n"
     ]
    }
   ],
   "source": [
    "def cipher_block_7x7_vertical(plaintext):\n",
    "    # Tambahkan padding jika panjang teks kurang dari 49 karakter\n",
    "    while len(plaintext) < 49:\n",
    "        plaintext += 'X'  # Gunakan 'X' sebagai padding\n",
    "\n",
    "    plaintext = plaintext[:49]\n",
    "\n",
    "    # Inisialisasi matriks kosong 7x7\n",
    "    matrix = [['' for _ in range(7)] for _ in range(7)]\n",
    "\n",
    "    # Isi matriks dengan teks per kolom (secara vertikal)\n",
    "    index = 0\n",
    "    for col in range(7):\n",
    "        for row in range(7):\n",
    "            matrix[row][col] = plaintext[index]\n",
    "            index += 1\n",
    "\n",
    "    # Format tampilan dalam bentuk matriks 7x7\n",
    "    print(\"Matriks 7x7:\")\n",
    "    for baris in matrix:\n",
    "        print(\" \".join(baris))\n",
    "\n",
    "    return matrix\n",
    "\n",
    "def baca_ciphertext(matrix):\n",
    "    # Membaca matriks secara horizontal (baris demi baris)\n",
    "    ciphertext = \"\"\n",
    "    for row in matrix:\n",
    "        ciphertext += \"\".join(row)\n",
    "    return ciphertext\n",
    "\n",
    "def dekripsi_ciphertext(ciphertext):\n",
    "    # Inisialisasi matriks kosong 7x7\n",
    "    matrix = [['' for _ in range(7)] for _ in range(7)]\n",
    "\n",
    "    # Rekonstruksi matriks dari ciphertext (diisi secara horizontal)\n",
    "    index = 0\n",
    "    for row in range(7):\n",
    "        for col in range(7):\n",
    "            matrix[row][col] = ciphertext[index]\n",
    "            index += 1\n",
    "\n",
    "    # Bacalah matriks secara vertikal untuk mendapatkan plaintext asli\n",
    "    plaintext = \"\"\n",
    "    for col in range(7):\n",
    "        for row in range(7):\n",
    "            plaintext += matrix[row][col]\n",
    "\n",
    "    return plaintext\n",
    "\n",
    "\n",
    "plaintext = \"UNIVERSITAS ESA UNGGUL MERAIH AKREDITASI UNGGUL\"\n",
    "matrix = cipher_block_7x7_vertical(plaintext)\n",
    "ciphertext = baca_ciphertext(matrix)\n",
    "\n",
    "print(\"\\nCiphertext yang terbaca:\", ciphertext)\n",
    "\n",
    "# Dekripsi\n",
    "decrypted_text = dekripsi_ciphertext(ciphertext)\n",
    "print(\"\\nHasil dekripsi:\", decrypted_text)\n"
   ]
  }
 ],
 "metadata": {
  "kernelspec": {
   "display_name": "Python 3",
   "language": "python",
   "name": "python3"
  },
  "language_info": {
   "codemirror_mode": {
    "name": "ipython",
    "version": 3
   },
   "file_extension": ".py",
   "mimetype": "text/x-python",
   "name": "python",
   "nbconvert_exporter": "python",
   "pygments_lexer": "ipython3",
   "version": "3.12.3"
  }
 },
 "nbformat": 4,
 "nbformat_minor": 2
}
